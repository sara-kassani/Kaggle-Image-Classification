{
 "cells": [
  {
   "cell_type": "code",
   "execution_count": 12,
   "metadata": {
    "_uuid": "823e18d4794cc1fcb7298cbf08387b2c73af367b"
   },
   "outputs": [],
   "source": [
    "import warnings\n",
    "warnings.filterwarnings('always')\n",
    "warnings.filterwarnings('ignore')\n",
    "\n",
    "from os import listdir\n",
    "import cv2\n",
    "import os\n",
    "import numpy as np\n",
    "from sklearn.model_selection import train_test_split\n",
    "from keras.utils import to_categorical\n",
    "from keras.models import Sequential\n",
    "from keras.layers import Conv2D,MaxPool2D,Flatten,Dense"
   ]
  },
  {
   "cell_type": "code",
   "execution_count": 13,
   "metadata": {
    "collapsed": true
   },
   "outputs": [],
   "source": [
    "daisy_path = \"flowers/daisy/\"\n",
    "dandelion_path = \"flowers/dandelion/\"\n",
    "rose_path = \"flowers/rose/\"\n",
    "sunflower_path = \"flowers/sunflower/\"\n",
    "tulip_path = \"flowers/tulip/\""
   ]
  },
  {
   "cell_type": "code",
   "execution_count": 14,
   "metadata": {
    "_uuid": "a47d99e49e0ae349f6e874bae810d5cd9e59f188",
    "collapsed": true
   },
   "outputs": [],
   "source": [
    "img_data = []\n",
    "labels = []\n",
    "\n",
    "size = 128,128\n",
    "def iter_images(images,directory,size,label):\n",
    "    try:\n",
    "        for i in range(len(images)):\n",
    "            img = cv2.imread(directory + images[i])\n",
    "            img = cv2.resize(img,size)\n",
    "            img_data.append(img)\n",
    "            labels.append(label)\n",
    "    except:\n",
    "        pass\n",
    "\n",
    "iter_images(listdir(daisy_path),daisy_path,size,0)\n",
    "iter_images(listdir(dandelion_path),dandelion_path,size,1)\n",
    "iter_images(listdir(rose_path),rose_path,size,2)\n",
    "iter_images(listdir(sunflower_path),sunflower_path,size,3)\n",
    "iter_images(listdir(tulip_path),tulip_path,size,4)"
   ]
  },
  {
   "cell_type": "code",
   "execution_count": 15,
   "metadata": {
    "_uuid": "f797126ec73bee0d06528ba4dd52e1ab597c8068"
   },
   "outputs": [
    {
     "data": {
      "text/plain": [
       "(4323, 4323)"
      ]
     },
     "execution_count": 15,
     "metadata": {},
     "output_type": "execute_result"
    }
   ],
   "source": [
    "len(img_data),len(labels)"
   ]
  },
  {
   "cell_type": "code",
   "execution_count": 16,
   "metadata": {
    "_uuid": "5525cc49b2157f3118aa821c86caec9783abc93b"
   },
   "outputs": [],
   "source": [
    "data = np.asarray(img_data)\n",
    "\n",
    "#div by 255\n",
    "data = data.astype('float32') / 255.0\n",
    "\n",
    "labels = np.asarray(labels)"
   ]
  },
  {
   "cell_type": "code",
   "execution_count": 17,
   "metadata": {
    "_uuid": "41c53628117b42155f715e1b9899ac226f2259c7"
   },
   "outputs": [
    {
     "data": {
      "text/plain": [
       "((4323, 128, 128, 3), (4323,))"
      ]
     },
     "execution_count": 17,
     "metadata": {},
     "output_type": "execute_result"
    }
   ],
   "source": [
    "data.shape, labels.shape"
   ]
  },
  {
   "cell_type": "code",
   "execution_count": 18,
   "metadata": {
    "_uuid": "3c0d4d639c4b15ba32d2464f70cb117f84c32283",
    "collapsed": true
   },
   "outputs": [],
   "source": [
    "# Split the data\n",
    "x_train, x_test, y_train, y_test = train_test_split(data, labels, test_size=0.30, shuffle= True)"
   ]
  },
  {
   "cell_type": "code",
   "execution_count": 19,
   "metadata": {
    "_uuid": "a3db5df9abb69ea3c380c13b72beaa680fb33a87",
    "collapsed": true
   },
   "outputs": [],
   "source": [
    "classes = 5\n",
    "\n",
    "y_train_binary = to_categorical(y_train,classes)\n",
    "y_test_binary = to_categorical(y_test,classes)"
   ]
  },
  {
   "cell_type": "code",
   "execution_count": 20,
   "metadata": {
    "_uuid": "c1fe1fea2f775f5249145677ec5c99e25e47f72d"
   },
   "outputs": [
    {
     "data": {
      "text/plain": [
       "array([[0., 1., 0., 0., 0.],\n",
       "       [1., 0., 0., 0., 0.],\n",
       "       [1., 0., 0., 0., 0.],\n",
       "       ...,\n",
       "       [0., 1., 0., 0., 0.],\n",
       "       [0., 0., 1., 0., 0.],\n",
       "       [0., 0., 0., 0., 1.]], dtype=float32)"
      ]
     },
     "execution_count": 20,
     "metadata": {},
     "output_type": "execute_result"
    }
   ],
   "source": [
    "y_train_binary"
   ]
  },
  {
   "cell_type": "code",
   "execution_count": null,
   "metadata": {
    "_uuid": "3f25ce5ac073bf3eec84b1791978fd3e2642470b",
    "collapsed": true
   },
   "outputs": [],
   "source": [
    "model = Sequential()\n",
    "model.add(Conv2D(32, (3,3),input_shape=(128, 128, 3),activation='relu'))\n",
    "model.add(MaxPool2D(pool_size=(2,2)))\n",
    "model.add(Flatten())\n",
    "model.add(Dense(128,activation='relu'))\n",
    "model.add(Dense(5,activation='softmax'))\n",
    "\n",
    "model.compile(loss='categorical_crossentropy',optimizer='adadelta',metrics=['accuracy'])"
   ]
  },
  {
   "cell_type": "code",
   "execution_count": null,
   "metadata": {
    "collapsed": true
   },
   "outputs": [],
   "source": [
    "batch_size = 128\n",
    "epochs = 30\n",
    "model.fit(x_train, y_train_binary,\n",
    "          batch_size=batch_size,\n",
    "          epochs=epochs,\n",
    "          verbose=1,\n",
    "          validation_data=(x_test, y_test_binary))"
   ]
  },
  {
   "cell_type": "code",
   "execution_count": null,
   "metadata": {
    "_uuid": "8376a295e9bee5c57a7032356bb705c166f1fa9e",
    "collapsed": true
   },
   "outputs": [],
   "source": [
    "pred = model.predict_classes(x_test[:10])\n",
    "\n",
    "for i in range(len(pred)):\n",
    "    print(pred[i],'==>',y_test[i])"
   ]
  },
  {
   "cell_type": "code",
   "execution_count": null,
   "metadata": {
    "_uuid": "99a24eccd72a282b60cb657c6ed226b901f216cd",
    "collapsed": true
   },
   "outputs": [],
   "source": []
  }
 ],
 "metadata": {
  "kernelspec": {
   "display_name": "Python 3",
   "language": "python",
   "name": "python3"
  },
  "language_info": {
   "codemirror_mode": {
    "name": "ipython",
    "version": 3
   },
   "file_extension": ".py",
   "mimetype": "text/x-python",
   "name": "python",
   "nbconvert_exporter": "python",
   "pygments_lexer": "ipython3",
   "version": "3.6.3"
  }
 },
 "nbformat": 4,
 "nbformat_minor": 1
}
