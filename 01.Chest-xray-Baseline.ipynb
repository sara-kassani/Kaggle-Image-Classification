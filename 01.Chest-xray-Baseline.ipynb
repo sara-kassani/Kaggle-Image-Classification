{
 "cells": [
  {
   "cell_type": "code",
   "execution_count": 1,
   "metadata": {},
   "outputs": [
    {
     "name": "stderr",
     "output_type": "stream",
     "text": [
      "/home/sara/anaconda3/lib/python3.6/site-packages/h5py/__init__.py:36: FutureWarning: Conversion of the second argument of issubdtype from `float` to `np.floating` is deprecated. In future, it will be treated as `np.float64 == np.dtype(float).type`.\n",
      "  from ._conv import register_converters as _register_converters\n",
      "Using TensorFlow backend.\n"
     ]
    },
    {
     "data": {
      "text/plain": [
       "'2.1.6'"
      ]
     },
     "execution_count": 1,
     "metadata": {},
     "output_type": "execute_result"
    }
   ],
   "source": [
    "import keras\n",
    "keras.__version__"
   ]
  },
  {
   "cell_type": "code",
   "execution_count": 1,
   "metadata": {},
   "outputs": [
    {
     "name": "stderr",
     "output_type": "stream",
     "text": [
      "/home/sara/anaconda3/lib/python3.6/site-packages/h5py/__init__.py:36: FutureWarning: Conversion of the second argument of issubdtype from `float` to `np.floating` is deprecated. In future, it will be treated as `np.float64 == np.dtype(float).type`.\n",
      "  from ._conv import register_converters as _register_converters\n",
      "Using TensorFlow backend.\n"
     ]
    }
   ],
   "source": [
    "import os\n",
    "import pandas as pd\n",
    "\n",
    "import numpy as np\n",
    "from glob import glob\n",
    "import cv2\n",
    "\n",
    "from keras import layers\n",
    "from keras import models\n",
    "from keras import optimizers\n",
    "from keras.preprocessing.image import ImageDataGenerator\n",
    "from keras.callbacks import ModelCheckpoint\n",
    "import matplotlib.pyplot as plt\n",
    "\n",
    "\n",
    "\n",
    "%matplotlib inline"
   ]
  },
  {
   "cell_type": "code",
   "execution_count": 2,
   "metadata": {},
   "outputs": [],
   "source": [
    "base_dir = \"data/chest_xray\"\n",
    "train_dir = os.path.join(base_dir, \"train\")\n",
    "val_dir = os.path.join(base_dir, \"val\")\n",
    "test_dir = os.path.join(base_dir, \"test\")"
   ]
  },
  {
   "cell_type": "code",
   "execution_count": null,
   "metadata": {},
   "outputs": [],
   "source": [
    "# images_per_class = {}\n",
    "# for class_folder_name in os.listdir(train_dir):\n",
    "#     class_folder_path = os.path.join(train_dir, class_folder_name)\n",
    "#     class_label = class_folder_name\n",
    "#     images_per_class[class_label] = []\n",
    "#     for image_path in glob(os.path.join(class_folder_path, \"*.jpeg\")):\n",
    "#         image_bgr = cv2.imread(image_path, cv2.IMREAD_COLOR)\n",
    "#         images_per_class[class_label].append(image_bgr)"
   ]
  },
  {
   "cell_type": "code",
   "execution_count": 6,
   "metadata": {},
   "outputs": [],
   "source": [
    "model = models.Sequential()\n",
    "model.add(layers.Conv2D(32, (3, 3), activation='relu',\n",
    "                        input_shape=(150, 150, 3)))\n",
    "model.add(layers.MaxPooling2D((2, 2)))\n",
    "model.add(layers.Conv2D(64, (3, 3), activation='relu'))\n",
    "model.add(layers.MaxPooling2D((2, 2)))\n",
    "model.add(layers.Conv2D(128, (3, 3), activation='relu'))\n",
    "model.add(layers.MaxPooling2D((2, 2)))\n",
    "model.add(layers.Conv2D(128, (3, 3), activation='relu'))\n",
    "model.add(layers.MaxPooling2D((2, 2)))\n",
    "model.add(layers.Flatten())\n",
    "model.add(layers.Dense(512, activation='relu'))\n",
    "model.add(layers.Dense(1, activation='sigmoid'))"
   ]
  },
  {
   "cell_type": "code",
   "execution_count": 7,
   "metadata": {},
   "outputs": [
    {
     "name": "stdout",
     "output_type": "stream",
     "text": [
      "_________________________________________________________________\n",
      "Layer (type)                 Output Shape              Param #   \n",
      "=================================================================\n",
      "conv2d_1 (Conv2D)            (None, 148, 148, 32)      896       \n",
      "_________________________________________________________________\n",
      "max_pooling2d_1 (MaxPooling2 (None, 74, 74, 32)        0         \n",
      "_________________________________________________________________\n",
      "conv2d_2 (Conv2D)            (None, 72, 72, 64)        18496     \n",
      "_________________________________________________________________\n",
      "max_pooling2d_2 (MaxPooling2 (None, 36, 36, 64)        0         \n",
      "_________________________________________________________________\n",
      "conv2d_3 (Conv2D)            (None, 34, 34, 128)       73856     \n",
      "_________________________________________________________________\n",
      "max_pooling2d_3 (MaxPooling2 (None, 17, 17, 128)       0         \n",
      "_________________________________________________________________\n",
      "conv2d_4 (Conv2D)            (None, 15, 15, 128)       147584    \n",
      "_________________________________________________________________\n",
      "max_pooling2d_4 (MaxPooling2 (None, 7, 7, 128)         0         \n",
      "_________________________________________________________________\n",
      "flatten_1 (Flatten)          (None, 6272)              0         \n",
      "_________________________________________________________________\n",
      "dense_1 (Dense)              (None, 512)               3211776   \n",
      "_________________________________________________________________\n",
      "dense_2 (Dense)              (None, 1)                 513       \n",
      "=================================================================\n",
      "Total params: 3,453,121\n",
      "Trainable params: 3,453,121\n",
      "Non-trainable params: 0\n",
      "_________________________________________________________________\n"
     ]
    }
   ],
   "source": [
    "model.summary()"
   ]
  },
  {
   "cell_type": "code",
   "execution_count": 8,
   "metadata": {},
   "outputs": [],
   "source": [
    "model.compile(loss='binary_crossentropy',\n",
    "              optimizer=optimizers.RMSprop(lr=1e-4),\n",
    "              metrics=['acc'])"
   ]
  },
  {
   "cell_type": "code",
   "execution_count": 10,
   "metadata": {},
   "outputs": [
    {
     "name": "stdout",
     "output_type": "stream",
     "text": [
      "Found 5216 images belonging to 2 classes.\n",
      "Found 16 images belonging to 2 classes.\n"
     ]
    }
   ],
   "source": [
    "train_datagen = ImageDataGenerator(rescale=1./255)\n",
    "test_datagen = ImageDataGenerator(rescale=1./255)\n",
    "\n",
    "train_generator = train_datagen.flow_from_directory(\n",
    "        train_dir,\n",
    "        # All images will be resized to 150x150\n",
    "        target_size=(150, 150),\n",
    "        batch_size=50,\n",
    "        # Since we use binary_crossentropy loss, we need binary labels\n",
    "        class_mode='binary')\n",
    "\n",
    "validation_generator = test_datagen.flow_from_directory(\n",
    "        val_dir,\n",
    "        target_size=(150, 150),\n",
    "        batch_size=50,\n",
    "        class_mode='binary')"
   ]
  },
  {
   "cell_type": "code",
   "execution_count": 11,
   "metadata": {},
   "outputs": [],
   "source": [
    "checkpointer = ModelCheckpoint(filepath='saved_models/cats_and_dogs_small_1.h5', \n",
    "                               verbose=1, save_best_only=True)"
   ]
  },
  {
   "cell_type": "code",
   "execution_count": 12,
   "metadata": {},
   "outputs": [
    {
     "name": "stdout",
     "output_type": "stream",
     "text": [
      "Epoch 1/30\n",
      "400/400 [==============================] - 510s 1s/step - loss: 0.2178 - acc: 0.9131 - val_loss: 0.2680 - val_acc: 0.9375\n",
      "Epoch 2/30\n",
      "400/400 [==============================] - 512s 1s/step - loss: 0.0825 - acc: 0.9688 - val_loss: 0.4673 - val_acc: 0.8125\n",
      "Epoch 3/30\n",
      "400/400 [==============================] - 496s 1s/step - loss: 0.0574 - acc: 0.9788 - val_loss: 0.3462 - val_acc: 0.8125\n",
      "Epoch 4/30\n",
      "400/400 [==============================] - 484s 1s/step - loss: 0.0395 - acc: 0.9857 - val_loss: 0.9248 - val_acc: 0.7500\n",
      "Epoch 5/30\n",
      "400/400 [==============================] - 482s 1s/step - loss: 0.0289 - acc: 0.9891 - val_loss: 0.3336 - val_acc: 0.8750\n",
      "Epoch 6/30\n",
      "400/400 [==============================] - 484s 1s/step - loss: 0.0174 - acc: 0.9943 - val_loss: 0.2678 - val_acc: 0.8750\n",
      "Epoch 7/30\n",
      "400/400 [==============================] - 484s 1s/step - loss: 0.0120 - acc: 0.9960 - val_loss: 0.2758 - val_acc: 0.8750\n",
      "Epoch 8/30\n",
      "400/400 [==============================] - 476s 1s/step - loss: 0.0076 - acc: 0.9975 - val_loss: 0.3414 - val_acc: 0.9375\n",
      "Epoch 9/30\n",
      "400/400 [==============================] - 485s 1s/step - loss: 0.0054 - acc: 0.9981 - val_loss: 0.8157 - val_acc: 0.7500\n",
      "Epoch 10/30\n",
      "400/400 [==============================] - 479s 1s/step - loss: 0.0034 - acc: 0.9989 - val_loss: 2.2898 - val_acc: 0.7500\n",
      "Epoch 11/30\n",
      "400/400 [==============================] - 477s 1s/step - loss: 0.0025 - acc: 0.9992 - val_loss: 1.7551 - val_acc: 0.7500\n",
      "Epoch 12/30\n",
      "400/400 [==============================] - 476s 1s/step - loss: 0.0026 - acc: 0.9992 - val_loss: 0.5495 - val_acc: 0.8750\n",
      "Epoch 13/30\n",
      "400/400 [==============================] - 475s 1s/step - loss: 0.0013 - acc: 0.9996 - val_loss: 2.0350 - val_acc: 0.7500\n",
      "Epoch 14/30\n",
      "400/400 [==============================] - 476s 1s/step - loss: 0.0025 - acc: 0.9993 - val_loss: 0.4275 - val_acc: 0.8750\n",
      "Epoch 15/30\n",
      "400/400 [==============================] - 476s 1s/step - loss: 0.0015 - acc: 0.9997 - val_loss: 1.6649 - val_acc: 0.7500\n",
      "Epoch 16/30\n",
      "400/400 [==============================] - 479s 1s/step - loss: 8.3104e-04 - acc: 0.9998 - val_loss: 2.2429 - val_acc: 0.7500\n",
      "Epoch 17/30\n",
      "400/400 [==============================] - 498s 1s/step - loss: 5.3676e-04 - acc: 0.9997 - val_loss: 1.6476 - val_acc: 0.8125\n",
      "Epoch 18/30\n",
      "400/400 [==============================] - 493s 1s/step - loss: 0.0013 - acc: 0.9997 - val_loss: 1.0201 - val_acc: 0.8125\n",
      "Epoch 19/30\n",
      "400/400 [==============================] - 492s 1s/step - loss: 0.0013 - acc: 0.9996 - val_loss: 1.5548 - val_acc: 0.8125\n",
      "Epoch 20/30\n",
      "400/400 [==============================] - 568s 1s/step - loss: 5.9845e-04 - acc: 0.9998 - val_loss: 0.9863 - val_acc: 0.8125\n",
      "Epoch 21/30\n",
      "400/400 [==============================] - 625s 2s/step - loss: 6.2178e-04 - acc: 0.9998 - val_loss: 1.3766 - val_acc: 0.8125\n",
      "Epoch 22/30\n",
      "400/400 [==============================] - 633s 2s/step - loss: 4.1144e-04 - acc: 0.9997 - val_loss: 0.8974 - val_acc: 0.8750\n",
      "Epoch 23/30\n",
      "400/400 [==============================] - 561s 1s/step - loss: 6.4321e-04 - acc: 0.9997 - val_loss: 1.0684 - val_acc: 0.8125\n",
      "Epoch 24/30\n",
      "400/400 [==============================] - 470s 1s/step - loss: 4.6605e-04 - acc: 0.9998 - val_loss: 1.4988 - val_acc: 0.7500\n",
      "Epoch 25/30\n",
      "400/400 [==============================] - 468s 1s/step - loss: 4.6431e-04 - acc: 0.9998 - val_loss: 1.0839 - val_acc: 0.8750\n",
      "Epoch 26/30\n",
      "400/400 [==============================] - 469s 1s/step - loss: 3.4378e-04 - acc: 0.9998 - val_loss: 1.1242 - val_acc: 0.8750\n",
      "Epoch 27/30\n",
      "400/400 [==============================] - 468s 1s/step - loss: 3.7094e-04 - acc: 0.9999 - val_loss: 0.9191 - val_acc: 0.9375\n",
      "Epoch 28/30\n",
      "400/400 [==============================] - 469s 1s/step - loss: 1.1582e-07 - acc: 1.0000 - val_loss: 1.2885 - val_acc: 0.8125\n",
      "Epoch 29/30\n",
      "400/400 [==============================] - 469s 1s/step - loss: 1.1441e-07 - acc: 1.0000 - val_loss: 1.3284 - val_acc: 0.8125\n",
      "Epoch 30/30\n",
      "400/400 [==============================] - 469s 1s/step - loss: 1.1434e-07 - acc: 1.0000 - val_loss: 1.2125 - val_acc: 0.8750\n"
     ]
    }
   ],
   "source": [
    "history = model.fit_generator(\n",
    "      train_generator,\n",
    "      steps_per_epoch=400,\n",
    "      epochs=30,\n",
    "      validation_data=validation_generator,\n",
    "      validation_steps=100)"
   ]
  },
  {
   "cell_type": "code",
   "execution_count": 1,
   "metadata": {},
   "outputs": [
    {
     "ename": "NameError",
     "evalue": "name 'model' is not defined",
     "output_type": "error",
     "traceback": [
      "\u001b[0;31m---------------------------------------------------------------------------\u001b[0m",
      "\u001b[0;31mNameError\u001b[0m                                 Traceback (most recent call last)",
      "\u001b[0;32m<ipython-input-1-10ef548b694b>\u001b[0m in \u001b[0;36m<module>\u001b[0;34m()\u001b[0m\n\u001b[0;32m----> 1\u001b[0;31m \u001b[0mscore\u001b[0m \u001b[0;34m=\u001b[0m \u001b[0mmodel\u001b[0m\u001b[0;34m.\u001b[0m\u001b[0mevaluate_generator\u001b[0m\u001b[0;34m(\u001b[0m\u001b[0mvalidation_generator\u001b[0m\u001b[0;34m,\u001b[0m \u001b[0msteps\u001b[0m\u001b[0;34m=\u001b[0m\u001b[0;36m50\u001b[0m\u001b[0;34m)\u001b[0m\u001b[0;34m\u001b[0m\u001b[0m\n\u001b[0m\u001b[1;32m      2\u001b[0m \u001b[0;34m\u001b[0m\u001b[0m\n\u001b[1;32m      3\u001b[0m \u001b[0mprint\u001b[0m \u001b[0;34m(\u001b[0m\u001b[0;34m'Test Score: '\u001b[0m\u001b[0;34m,\u001b[0m \u001b[0mscore\u001b[0m\u001b[0;34m[\u001b[0m\u001b[0;36m0\u001b[0m\u001b[0;34m]\u001b[0m\u001b[0;34m)\u001b[0m\u001b[0;34m\u001b[0m\u001b[0m\n\u001b[1;32m      4\u001b[0m \u001b[0mprint\u001b[0m \u001b[0;34m(\u001b[0m\u001b[0;34m'Test Accuracy: '\u001b[0m\u001b[0;34m,\u001b[0m\u001b[0mscore\u001b[0m\u001b[0;34m[\u001b[0m\u001b[0;36m1\u001b[0m\u001b[0;34m]\u001b[0m\u001b[0;34m)\u001b[0m\u001b[0;34m\u001b[0m\u001b[0m\n",
      "\u001b[0;31mNameError\u001b[0m: name 'model' is not defined"
     ]
    }
   ],
   "source": [
    "score = model.evaluate_generator(validation_generator, steps=50)\n",
    "\n",
    "print ('Test Score: ', score[0])\n",
    "print ('Test Accuracy: ',score[1])"
   ]
  },
  {
   "cell_type": "code",
   "execution_count": 13,
   "metadata": {},
   "outputs": [],
   "source": [
    "model.save('chest_xray_basicModel.h5')\n",
    "model.save_weights('chest_xray_basicWeights.h5')"
   ]
  },
  {
   "cell_type": "code",
   "execution_count": 14,
   "metadata": {},
   "outputs": [
    {
     "data": {
      "image/png": "[encoded data removed]",
      "text/plain": [
       "<matplotlib.figure.Figure at 0x7fe3065bf748>"
      ]
     },
     "metadata": {},
     "output_type": "display_data"
    },
    {
     "data": {
      "image/png": "[encoded data removed]",
      "text/plain": [
       "<matplotlib.figure.Figure at 0x7fe30660eac8>"
      ]
     },
     "metadata": {},
     "output_type": "display_data"
    }
   ],
   "source": [
    "acc = history.history['acc']\n",
    "val_acc = history.history['val_acc']\n",
    "loss = history.history['loss']\n",
    "val_loss = history.history['val_loss']\n",
    "\n",
    "epochs = range(len(acc))\n",
    "\n",
    "plt.plot(epochs, acc, 'bo', label='Training acc')\n",
    "plt.plot(epochs, val_acc, 'b', label='Validation acc')\n",
    "plt.title('Training and validation accuracy')\n",
    "plt.legend()\n",
    "\n",
    "plt.figure()\n",
    "\n",
    "plt.plot(epochs, loss, 'bo', label='Training loss')\n",
    "plt.plot(epochs, val_loss, 'b', label='Validation loss')\n",
    "plt.title('Training and validation loss')\n",
    "plt.legend()\n",
    "\n",
    "plt.show()"
   ]
  },
  {
   "cell_type": "code",
   "execution_count": null,
   "metadata": {},
   "outputs": [],
   "source": []
  }
 ],
 "metadata": {
  "kernelspec": {
   "display_name": "Python 3",
   "language": "python",
   "name": "python3"
  },
  "language_info": {
   "codemirror_mode": {
    "name": "ipython",
    "version": 3
   },
   "file_extension": ".py",
   "mimetype": "text/x-python",
   "name": "python",
   "nbconvert_exporter": "python",
   "pygments_lexer": "ipython3",
   "version": "3.6.4"
  }
 },
 "nbformat": 4,
 "nbformat_minor": 2
}
