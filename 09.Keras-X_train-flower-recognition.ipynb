{
 "cells": [
  {
   "cell_type": "code",
   "execution_count": 17,
   "metadata": {
    "collapsed": true
   },
   "outputs": [],
   "source": [
    "# https://www.kaggle.com/rajmehra03/flower-recognition-cnn-keras"
   ]
  },
  {
   "cell_type": "code",
   "execution_count": 1,
   "metadata": {
    "_uuid": "d7a7312aab77334d4ecc34d0e64fd057733caf04"
   },
   "outputs": [
    {
     "name": "stdout",
     "output_type": "stream",
     "text": [
      "['daisy', 'dandelion', 'rose', 'sunflower', 'tulip']\n"
     ]
    }
   ],
   "source": [
    "import os\n",
    "print(os.listdir('flowers/'))"
   ]
  },
  {
   "cell_type": "code",
   "execution_count": 3,
   "metadata": {
    "_uuid": "743b574dc8902f9376b0293208139192ed5717d1",
    "colab": {
     "base_uri": "https://localhost:8080/",
     "height": 34
    },
    "colab_type": "code",
    "id": "z19bVm7o9zeu",
    "outputId": "e6607658-c349-4b88-b29b-bf08b229daa7"
   },
   "outputs": [],
   "source": [
    "# Ignore  the warnings\n",
    "import warnings\n",
    "warnings.filterwarnings('always')\n",
    "warnings.filterwarnings('ignore')\n",
    "\n",
    "# data visualisation and manipulation\n",
    "import numpy as np\n",
    "import pandas as pd\n",
    "import matplotlib.pyplot as plt\n",
    "from matplotlib import style\n",
    "import seaborn as sns\n",
    " \n",
    "#configure\n",
    "# sets matplotlib to inline and displays graphs below the corressponding cell.\n",
    "%matplotlib inline  \n",
    "style.use('fivethirtyeight')\n",
    "sns.set(style='whitegrid',color_codes=True)\n",
    "\n",
    "#model selection\n",
    "from sklearn.model_selection import train_test_split\n",
    "from sklearn.model_selection import KFold\n",
    "from sklearn.metrics import accuracy_score,precision_score,recall_score,confusion_matrix,roc_curve,roc_auc_score\n",
    "from sklearn.model_selection import GridSearchCV\n",
    "from sklearn.preprocessing import LabelEncoder\n",
    "\n",
    "#preprocess.\n",
    "from keras.preprocessing.image import ImageDataGenerator\n",
    "\n",
    "#dl libraraies\n",
    "from keras import backend as K\n",
    "from keras.models import Sequential\n",
    "from keras.layers import Dense\n",
    "from keras.optimizers import Adam,SGD,Adagrad,Adadelta,RMSprop\n",
    "from keras.utils import to_categorical\n",
    "\n",
    "# specifically for cnn\n",
    "from keras.layers import Dropout, Flatten,Activation\n",
    "from keras.layers import Conv2D, MaxPooling2D, BatchNormalization\n",
    " \n",
    "import tensorflow as tf\n",
    "import random as rn\n",
    "\n",
    "# specifically for manipulating zipped images and getting numpy arrays of pixel values of images.\n",
    "import cv2                  \n",
    "import numpy as np  \n",
    "from tqdm import tqdm\n",
    "import os                   \n",
    "from random import shuffle  \n",
    "from zipfile import ZipFile\n",
    "from PIL import Image\n",
    "\n",
    "np.random.seed(42)\n",
    "rn.seed(42)\n",
    "tf.set_random_seed(42)"
   ]
  },
  {
   "cell_type": "code",
   "execution_count": 8,
   "metadata": {
    "_uuid": "54f440d5e3da322372601d59e6224a8fcd89c5f8",
    "colab": {},
    "colab_type": "code",
    "collapsed": true,
    "id": "abZS8dPk9ze1"
   },
   "outputs": [],
   "source": [
    "X=[]\n",
    "Z=[]\n",
    "img_size = 150\n",
    "FLOWER_DAISY_DIR='flowers/daisy'\n",
    "FLOWER_SUNFLOWER_DIR='flowers/sunflower'\n",
    "FLOWER_TULIP_DIR='flowers/tulip'\n",
    "FLOWER_DANDI_DIR='flowers/dandelion'\n",
    "FLOWER_ROSE_DIR='flowers/rose'\n"
   ]
  },
  {
   "cell_type": "code",
   "execution_count": 9,
   "metadata": {
    "_uuid": "73a92819956d2358999ca2233854712849a746d0",
    "colab": {},
    "colab_type": "code",
    "collapsed": true,
    "id": "2qPgwo1d9ze4"
   },
   "outputs": [],
   "source": [
    "def assign_label(img,flower_type):\n",
    "    return flower_type"
   ]
  },
  {
   "cell_type": "code",
   "execution_count": 10,
   "metadata": {
    "_uuid": "6392aebe4fd42ff52460f249ca442626c0af69b7",
    "colab": {},
    "colab_type": "code",
    "collapsed": true,
    "id": "vlY8PywM9ze7"
   },
   "outputs": [],
   "source": [
    "def make_train_data(flower_type,DIR):\n",
    "    for img in tqdm(os.listdir(DIR)):\n",
    "        label=assign_label(img,flower_type)\n",
    "        path = os.path.join(DIR,img)\n",
    "        img = cv2.imread(path,cv2.IMREAD_COLOR)\n",
    "        img = cv2.resize(img, (img_size,img_size))\n",
    "        \n",
    "        X.append(np.array(img))\n",
    "        Z.append(str(label))   "
   ]
  },
  {
   "cell_type": "code",
   "execution_count": 11,
   "metadata": {
    "_uuid": "46034734b447b127ce033705f44a01e7806a8990",
    "colab": {
     "base_uri": "https://localhost:8080/",
     "height": 51
    },
    "colab_type": "code",
    "id": "9hn_RjL29ze_",
    "outputId": "40853035-6f1c-4bf4-b2f1-708e7269d2de"
   },
   "outputs": [
    {
     "name": "stderr",
     "output_type": "stream",
     "text": [
      "100%|████████████████████████████████████████████████████████████████████████████████| 769/769 [00:14<00:00, 52.26it/s]\n"
     ]
    },
    {
     "name": "stdout",
     "output_type": "stream",
     "text": [
      "769\n"
     ]
    }
   ],
   "source": [
    "make_train_data('Daisy',FLOWER_DAISY_DIR)\n",
    "print(len(X))"
   ]
  },
  {
   "cell_type": "code",
   "execution_count": 12,
   "metadata": {
    "_uuid": "1909dd2bc123cec910d8214898129ab8b622e62f",
    "colab": {
     "base_uri": "https://localhost:8080/",
     "height": 51
    },
    "colab_type": "code",
    "id": "6XZpRkLK9zfC",
    "outputId": "2a95e409-446f-47e7-8856-686520e5dc05"
   },
   "outputs": [
    {
     "name": "stderr",
     "output_type": "stream",
     "text": [
      "100%|████████████████████████████████████████████████████████████████████████████████| 734/734 [00:15<00:00, 47.30it/s]\n"
     ]
    },
    {
     "name": "stdout",
     "output_type": "stream",
     "text": [
      "1503\n"
     ]
    }
   ],
   "source": [
    "make_train_data('Sunflower',FLOWER_SUNFLOWER_DIR)\n",
    "print(len(X))"
   ]
  },
  {
   "cell_type": "code",
   "execution_count": 13,
   "metadata": {
    "_uuid": "5f65e9627dc53b8cb245bc3babd0ab99a7ad3fd2",
    "colab": {
     "base_uri": "https://localhost:8080/",
     "height": 51
    },
    "colab_type": "code",
    "id": "YvJMmnNx9zfH",
    "outputId": "d0b62619-ed0e-4581-a143-64e48c0bad4e"
   },
   "outputs": [
    {
     "name": "stderr",
     "output_type": "stream",
     "text": [
      "100%|████████████████████████████████████████████████████████████████████████████████| 984/984 [00:20<00:00, 47.97it/s]\n"
     ]
    },
    {
     "name": "stdout",
     "output_type": "stream",
     "text": [
      "2487\n"
     ]
    }
   ],
   "source": [
    "make_train_data('Tulip',FLOWER_TULIP_DIR)\n",
    "print(len(X))"
   ]
  },
  {
   "cell_type": "code",
   "execution_count": 14,
   "metadata": {
    "_uuid": "fef985e030d09df0762031cd2ec4b009a1f7711a",
    "colab": {
     "base_uri": "https://localhost:8080/",
     "height": 51
    },
    "colab_type": "code",
    "id": "KgYj8x-H9zfL",
    "outputId": "0b132777-9fc4-4197-88e3-0facfea80a99"
   },
   "outputs": [
    {
     "name": "stderr",
     "output_type": "stream",
     "text": [
      "100%|██████████████████████████████████████████████████████████████████████████████| 1052/1052 [00:21<00:00, 48.26it/s]\n"
     ]
    },
    {
     "name": "stdout",
     "output_type": "stream",
     "text": [
      "3539\n"
     ]
    }
   ],
   "source": [
    "make_train_data('Dandelion',FLOWER_DANDI_DIR)\n",
    "print(len(X))"
   ]
  },
  {
   "cell_type": "code",
   "execution_count": 15,
   "metadata": {
    "_uuid": "96a7e6070fe5a74624eeb12a86f609480e158cd1",
    "colab": {
     "base_uri": "https://localhost:8080/",
     "height": 51
    },
    "colab_type": "code",
    "id": "3mtQH6Vg9zfQ",
    "outputId": "50f204ba-53ab-49ee-aa75-b2bf62e2bcd2"
   },
   "outputs": [
    {
     "name": "stderr",
     "output_type": "stream",
     "text": [
      "100%|████████████████████████████████████████████████████████████████████████████████| 784/784 [00:15<00:00, 51.90it/s]\n"
     ]
    },
    {
     "name": "stdout",
     "output_type": "stream",
     "text": [
      "4323\n"
     ]
    }
   ],
   "source": [
    "make_train_data('Rose',FLOWER_ROSE_DIR)\n",
    "print(len(X))"
   ]
  },
  {
   "cell_type": "code",
   "execution_count": 16,
   "metadata": {
    "_uuid": "46155da810657d35899fedf3f055a0cf3f04ec6e",
    "colab": {},
    "colab_type": "code",
    "collapsed": true,
    "id": "_Gug0CHU9zfe"
   },
   "outputs": [],
   "source": [
    "le = LabelEncoder()\n",
    "Y = le.fit_transform(Z)\n",
    "Y = to_categorical(Y, 5)\n",
    "X = np.array(X)\n",
    "X = X / 255"
   ]
  },
  {
   "cell_type": "code",
   "execution_count": null,
   "metadata": {
    "_uuid": "75d23f1232fc974cb4a3dc1b966864bea390e184",
    "colab": {},
    "colab_type": "code",
    "collapsed": true,
    "id": "4xogXfvm9zfg"
   },
   "outputs": [],
   "source": [
    "x_train, x_test, y_train, y_test = train_test_split(X, Y, test_size=0.25, random_state=42)"
   ]
  },
  {
   "cell_type": "code",
   "execution_count": null,
   "metadata": {
    "_uuid": "01ac04f51fd20947335ec6aced2fd9828debe945",
    "colab": {},
    "colab_type": "code",
    "collapsed": true,
    "id": "2a2cTLEt9zfm"
   },
   "outputs": [],
   "source": [
    "model = Sequential()\n",
    "model.add(Conv2D(filters = 32, kernel_size = (5,5),padding = 'Same',activation ='relu', input_shape = (150,150,3)))\n",
    "model.add(MaxPooling2D(pool_size=(2,2)))\n",
    "\n",
    "\n",
    "model.add(Conv2D(filters = 64, kernel_size = (3,3),padding = 'Same',activation ='relu'))\n",
    "model.add(MaxPooling2D(pool_size=(2,2), strides=(2,2)))\n",
    " \n",
    "\n",
    "model.add(Conv2D(filters =96, kernel_size = (3,3),padding = 'Same',activation ='relu'))\n",
    "model.add(MaxPooling2D(pool_size=(2,2), strides=(2,2)))\n",
    "\n",
    "model.add(Conv2D(filters = 96, kernel_size = (3,3),padding = 'Same',activation ='relu'))\n",
    "model.add(MaxPooling2D(pool_size=(2,2), strides=(2,2)))\n",
    "\n",
    "model.add(Flatten())\n",
    "model.add(Dense(512))\n",
    "model.add(Activation('relu'))\n",
    "model.add(Dense(5, activation = \"softmax\"))"
   ]
  },
  {
   "cell_type": "markdown",
   "metadata": {
    "_uuid": "2e75515599edc31ca8c8e4299ea62d259fd6c788"
   },
   "source": [
    "# LR Annealer"
   ]
  },
  {
   "cell_type": "code",
   "execution_count": null,
   "metadata": {
    "_uuid": "aa6c41f404a017054eb3d309dabdf48bc8822cef",
    "colab": {},
    "colab_type": "code",
    "collapsed": true,
    "id": "ubXKjfti9zfq"
   },
   "outputs": [],
   "source": [
    "batch_size=128\n",
    "epochs=50\n",
    "\n",
    "from keras.callbacks import ReduceLROnPlateau\n",
    "red_lr= ReduceLROnPlateau(monitor='val_acc',patience=3,verbose=1,factor=0.1)"
   ]
  },
  {
   "cell_type": "code",
   "execution_count": null,
   "metadata": {
    "_uuid": "358f41a7c04bd65219782b439c9f073c1668af7b",
    "colab": {},
    "colab_type": "code",
    "collapsed": true,
    "id": "F5YP1q3wc6Ck"
   },
   "outputs": [],
   "source": [
    "datagen = ImageDataGenerator(\n",
    "        featurewise_center=False,  # set input mean to 0 over the dataset\n",
    "        samplewise_center=False,  # set each sample mean to 0\n",
    "        featurewise_std_normalization=False,  # divide inputs by std of the dataset\n",
    "        samplewise_std_normalization=False,  # divide each input by its std\n",
    "        zca_whitening=False,  # apply ZCA whitening\n",
    "        rotation_range=10,  # randomly rotate images in the range (degrees, 0 to 180)\n",
    "        zoom_range = 0.1, # Randomly zoom image \n",
    "        width_shift_range=0.2,  # randomly shift images horizontally (fraction of total width)\n",
    "        height_shift_range=0.2,  # randomly shift images vertically (fraction of total height)\n",
    "        horizontal_flip=True,  # randomly flip images\n",
    "        vertical_flip=False)  # randomly flip images\n",
    "\n",
    "\n",
    "datagen.fit(x_train)"
   ]
  },
  {
   "cell_type": "code",
   "execution_count": null,
   "metadata": {
    "_uuid": "172eb8e295a26fb76f338814798c73568456fd7f",
    "colab": {},
    "colab_type": "code",
    "collapsed": true,
    "id": "d3TzLswd9zft"
   },
   "outputs": [],
   "source": [
    "model.compile(optimizer = Adam(lr=0.001), loss='categorical_crossentropy', metrics=['accuracy'])\n",
    "model.summary()"
   ]
  },
  {
   "cell_type": "code",
   "execution_count": null,
   "metadata": {
    "_uuid": "2736cb961572eaaa843417199d543b7016ed608a",
    "colab": {
     "base_uri": "https://localhost:8080/",
     "height": 1717
    },
    "colab_type": "code",
    "collapsed": true,
    "id": "YNVSuB6P9zf0",
    "outputId": "465a2fe5-64ec-4443-9cd1-a58574c62ab3"
   },
   "outputs": [],
   "source": [
    "history = model.fit_generator(datagen.flow(x_train,y_train, batch_size=batch_size),\n",
    "                              epochs = epochs,\n",
    "                              validation_data = (x_test,y_test),\n",
    "                              verbose = 1,\n",
    "                              steps_per_epoch=x_train.shape[0] // batch_size)"
   ]
  },
  {
   "cell_type": "code",
   "execution_count": null,
   "metadata": {
    "_uuid": "0fddff49b7df1420982bd3a05a63dd38b721e743",
    "colab": {
     "base_uri": "https://localhost:8080/",
     "height": 398
    },
    "colab_type": "code",
    "collapsed": true,
    "id": "5zyO2Sdj9zf2",
    "outputId": "2fdeb1ee-3dc6-45de-eba2-6b672e537ab1"
   },
   "outputs": [],
   "source": [
    "plt.plot(history.history['loss'])\n",
    "plt.plot(history.history['val_loss'])\n",
    "plt.title('Model Loss')\n",
    "plt.ylabel('Loss')\n",
    "plt.xlabel('Epochs')\n",
    "plt.legend(['train', 'test'])\n",
    "plt.show()"
   ]
  },
  {
   "cell_type": "code",
   "execution_count": null,
   "metadata": {
    "_uuid": "22dc277aaaeb3f016bfaa19c1abd612442af49e8",
    "colab": {
     "base_uri": "https://localhost:8080/",
     "height": 398
    },
    "colab_type": "code",
    "collapsed": true,
    "id": "N-JDEQGkuQgp",
    "outputId": "4ec51c19-4870-4b35-d739-493666ac9589"
   },
   "outputs": [],
   "source": [
    "plt.plot(history.history['acc'])\n",
    "plt.plot(history.history['val_acc'])\n",
    "plt.title('Model Accuracy')\n",
    "plt.ylabel('Accuracy')\n",
    "plt.xlabel('Epochs')\n",
    "plt.legend(['train', 'test'])\n",
    "plt.show()\n"
   ]
  },
  {
   "cell_type": "code",
   "execution_count": null,
   "metadata": {
    "_uuid": "b123e1f9cf0c0151324c24e0a85d8152be82f276",
    "colab": {},
    "colab_type": "code",
    "collapsed": true,
    "id": "WNENC0T7r2KQ"
   },
   "outputs": [],
   "source": [
    "# getting predictions on val set.\n",
    "pred = model.predict(x_test)\n",
    "pred_digits = np.argmax(pred,axis=1)"
   ]
  },
  {
   "cell_type": "markdown",
   "metadata": {
    "_uuid": "6102a25c4157ac0376a8afea4e92631a998f643b"
   },
   "source": [
    "___"
   ]
  },
  {
   "cell_type": "code",
   "execution_count": null,
   "metadata": {
    "_uuid": "598a5ef3b0ef1f19bbd1ee9ce217050bf8326084",
    "colab": {},
    "colab_type": "code",
    "collapsed": true,
    "id": "JNHaFfpKuanZ"
   },
   "outputs": [],
   "source": [
    "# now storing some properly as well as misclassified indexes'.\n",
    "i=0\n",
    "prop_class=[]\n",
    "mis_class=[]\n",
    "\n",
    "for i in range(len(y_test)):\n",
    "    if(np.argmax(y_test[i])==pred_digits[i]):\n",
    "        prop_class.append(i)\n",
    "    if(len(prop_class)==8):\n",
    "        break\n",
    "\n",
    "i=0\n",
    "for i in range(len(y_test)):\n",
    "    if(not np.argmax(y_test[i])==pred_digits[i]):\n",
    "        mis_class.append(i)\n",
    "    if(len(mis_class)==8):\n",
    "        break"
   ]
  },
  {
   "cell_type": "markdown",
   "metadata": {
    "_uuid": "f79b8469106478e9b8a8480689c304b2a5ad831d"
   },
   "source": [
    "#### Correctly Classified Images"
   ]
  },
  {
   "cell_type": "code",
   "execution_count": null,
   "metadata": {
    "_uuid": "4653aef59ea0880863aaf9d1a478cfef1479827b",
    "colab": {
     "base_uri": "https://localhost:8080/",
     "height": 1085
    },
    "colab_type": "code",
    "collapsed": true,
    "id": "jZzYLITrsYmy",
    "outputId": "05bbfc80-b7b6-47e5-9289-9ffcc6bc0865"
   },
   "outputs": [],
   "source": [
    "count=0\n",
    "fig,ax=plt.subplots(4,2)\n",
    "fig.set_size_inches(15,15)\n",
    "for i in range (4):\n",
    "    for j in range (2):\n",
    "        ax[i,j].imshow(x_test[prop_class[count]])\n",
    "        ax[i,j].set_title(\"Predicted Flower : \"+str(le.inverse_transform([pred_digits[prop_class[count]]]))+\"\\n\"+\"Actual Flower : \"+str(le.inverse_transform(np.argmax([y_test[prop_class[count]]]))))\n",
    "        plt.tight_layout()\n",
    "        count+=1"
   ]
  },
  {
   "cell_type": "markdown",
   "metadata": {
    "_uuid": "7dc060c214371876c93b1b4f93e71c91c1ff2384"
   },
   "source": [
    "#### Missclassified Images"
   ]
  },
  {
   "cell_type": "code",
   "execution_count": null,
   "metadata": {
    "_uuid": "9bf0a02c49d6d8bc6c10830dd3ad9eb08f3e3661",
    "colab": {
     "base_uri": "https://localhost:8080/",
     "height": 1085
    },
    "colab_type": "code",
    "collapsed": true,
    "id": "uJDzq5mQtoOy",
    "outputId": "c001b71e-4ca8-43b4-c3ce-187d255d9fc9"
   },
   "outputs": [],
   "source": [
    "count=0\n",
    "fig,ax=plt.subplots(4,2)\n",
    "fig.set_size_inches(15,15)\n",
    "for i in range (4):\n",
    "    for j in range (2):\n",
    "        ax[i,j].imshow(x_test[mis_class[count]])\n",
    "        ax[i,j].set_title(\"Predicted Flower : \"+str(le.inverse_transform([pred_digits[mis_class[count]]]))+\"\\n\"+\"Actual Flower : \"+str(le.inverse_transform(np.argmax([y_test[mis_class[count]]]))))\n",
    "        plt.tight_layout()\n",
    "        count+=1"
   ]
  }
 ],
 "metadata": {
  "accelerator": "GPU",
  "colab": {
   "collapsed_sections": [],
   "name": "Flower Recognition.ipynb",
   "provenance": [],
   "version": "0.3.2"
  },
  "kernelspec": {
   "display_name": "Python 3",
   "language": "python",
   "name": "python3"
  },
  "language_info": {
   "codemirror_mode": {
    "name": "ipython",
    "version": 3
   },
   "file_extension": ".py",
   "mimetype": "text/x-python",
   "name": "python",
   "nbconvert_exporter": "python",
   "pygments_lexer": "ipython3",
   "version": "3.6.3"
  }
 },
 "nbformat": 4,
 "nbformat_minor": 1
}
